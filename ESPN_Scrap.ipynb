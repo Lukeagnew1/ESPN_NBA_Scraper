{
 "cells": [
  {
   "cell_type": "code",
   "execution_count": 10,
   "id": "77751207-af6d-4c73-8d76-5d950dd6d1ca",
   "metadata": {},
   "outputs": [],
   "source": [
    "import pandas as pd \n",
    "from selenium import webdriver\n",
    "from selenium.webdriver.common.by import By\n",
    "from selenium.webdriver.chrome.service import Service as ChromeService\n",
    "import time "
   ]
  },
  {
   "cell_type": "code",
   "execution_count": 11,
   "id": "02cab3fd-7066-409e-a04c-1df3d55f0201",
   "metadata": {},
   "outputs": [],
   "source": [
    "service = ChromeService(executable_path=r\"C:\\Users\\Luke\\Downloads\\chromedriver.exe\")\n",
    "driver = webdriver.Chrome(service=service)"
   ]
  },
  {
   "cell_type": "code",
   "execution_count": 12,
   "id": "7406e8b9-0075-4ae6-bf5f-902ac706ec4e",
   "metadata": {},
   "outputs": [],
   "source": [
    "website = \"https://www.espn.com/nba/scoreboard/_/date/20211019\"\n",
    "driver.get(website)"
   ]
  },
  {
   "cell_type": "code",
   "execution_count": 13,
   "id": "aef942df-4a42-4142-9783-920f3bbc2ac0",
   "metadata": {},
   "outputs": [],
   "source": [
    "teams = ['Bucks','Cavaliers','Raptors','Hawks','Celtics','Bulls','Wizards','76ers','Heat','Knicks','Pacers','Hornets','Nets','Pistons','Magic','Suns',\n",
    "         'Trail Blazers','Jazz','Grizzlies','Spurs','Nuggets','Pelicans','Mavericks','Timberwolves','Thunder','Clippers','Warriors','Lakers','Kings','Rockets']"
   ]
  },
  {
   "cell_type": "code",
   "execution_count": 14,
   "id": "e038312e-bf49-45bd-a8d7-bf6aad0793b9",
   "metadata": {},
   "outputs": [],
   "source": [
    "date = []\n",
    "team = []\n",
    "q1 = []\n",
    "q2 = []\n",
    "q3 = []\n",
    "q4 = []"
   ]
  },
  {
   "cell_type": "code",
   "execution_count": null,
   "id": "c6e09e91-7ecb-4726-ace2-d020508b041c",
   "metadata": {},
   "outputs": [],
   "source": [
    "count = 1\n",
    "\n",
    "while count <= 175:\n",
    "    try:\n",
    "        time.sleep(2)\n",
    "        tester = driver.find_element(by=By.XPATH, value='//*[@id=\"fittPageContainer\"]/div[3]/div/div/div[1]/div').text\n",
    "        testerlist = tester.split('\\n')\n",
    "        for i in range(len(testerlist)):\n",
    "            if teams.count(testerlist[i])==1:\n",
    "                if testerlist[i+2].isdigit(): \n",
    "                    date.append(testerlist[0])\n",
    "                    team.append(testerlist[i])\n",
    "                    q1.append(testerlist[i+2])\n",
    "                    q2.append(testerlist[i+3])\n",
    "                    q3.append(testerlist[i+4])\n",
    "                    q4.append(testerlist[i+5])\n",
    "    \n",
    "        testerclick = driver.find_element(by=By.XPATH, value='//*[@id=\"fittPageContainer\"]/div[3]/div/div/div[1]/section/div/section/div/div/div/div/div/div[2]/div/div[position()=5]')\n",
    "        testerclick.click()\n",
    "        count += 1 \n",
    "    except:\n",
    "        driver.refresh()\n",
    "        time.sleep(15)\n",
    "        testerclick = driver.find_element(by=By.XPATH, value='//*[@id=\"fittPageContainer\"]/div[3]/div/div/div[1]/section/div/section/div/div/div/div/div/div[2]/div/div[position()=5]')\n",
    "        testerclick.click()"
    "        count += 1"
   ]
  },
  {
   "cell_type": "code",
   "execution_count": 16,
   "id": "27790446-8a4a-4651-bd5e-45b97141c491",
   "metadata": {},
   "outputs": [],
   "source": [
    "df = pd.DataFrame({'Date': date, 'Team': team, 'Quarter 1': q1, \"Quarter 2\": q2, \"Quarter 3\": q3, \"Quarter 4\": q4})"
   ]
  },
  {
   "cell_type": "code",
   "execution_count": 18,
   "id": "9d76f0a8-06d2-4c67-8353-adaa514369de",
   "metadata": {},
   "outputs": [],
   "source": [
    "df.to_csv('NBA_2021.csv', index=False)"
   ]
  }
 ],
 "metadata": {
  "kernelspec": {
   "display_name": "Python 3 (ipykernel)",
   "language": "python",
   "name": "python3"
  },
  "language_info": {
   "codemirror_mode": {
    "name": "ipython",
    "version": 3
   },
   "file_extension": ".py",
   "mimetype": "text/x-python",
   "name": "python",
   "nbconvert_exporter": "python",
   "pygments_lexer": "ipython3",
   "version": "3.8.5"
  }
 },
 "nbformat": 4,
 "nbformat_minor": 5
}
